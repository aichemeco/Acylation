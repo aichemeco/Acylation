{
 "cells": [
  {
   "cell_type": "code",
   "execution_count": null,
   "metadata": {},
   "outputs": [],
   "source": [
    "import rdkit\n",
    "from rdkit import Chem\n",
    "from rdkit.Chem import AllChem\n",
    "import numpy as np\n",
    "from sklearn.decomposition import PCA\n",
    "from sklearn.cluster import KMeans\n",
    "from sklearn.model_selection import train_test_split\n",
    "import matplotlib.pyplot as plt\n",
    "import time\n",
    "\n",
    "\n",
    "df = pd.read_csv(\"your data set\")\n",
    "smiles_list = list(df['product_smiles'])\n",
    "\n",
    "\n",
    "fingerprints = []\n",
    "for smi in df['product_smiles']:\n",
    "    mol = Chem.MolFromSmiles(smi)\n",
    "    if mol is not None:\n",
    "        fp = AllChem.GetMorganFingerprintAsBitVect(mol, 2, nBits=1024)\n",
    "        fingerprints.append(fp)\n",
    "\n",
    "\n",
    "fingerprints_np = np.array([np.array(fp) for fp in fingerprints])\n",
    "\n",
    "\n",
    "pca = PCA(n_components=2)\n",
    "fingerprints_2d = pca.fit_transform(fingerprints_np)\n",
    "\n",
    "\n",
    "plt.figure(figsize=(8, 8))\n",
    "\n",
    "\n",
    "plt.scatter(fingerprints_2d[:, 0], fingerprints_2d[:, 1], c='blue', cmap='viridis', edgecolors='k', alpha=0.3, label='All data')\n",
    "\n",
    "plt.xlabel('PCA Component 1')\n",
    "plt.ylabel('PCA Component 2')\n",
    "plt.title('2D PCA of Molecular Fingerprints')\n",
    "plt.legend()\n",
    "plt.show()"
   ]
  }
 ],
 "metadata": {
  "language_info": {
   "name": "python"
  }
 },
 "nbformat": 4,
 "nbformat_minor": 2
}
